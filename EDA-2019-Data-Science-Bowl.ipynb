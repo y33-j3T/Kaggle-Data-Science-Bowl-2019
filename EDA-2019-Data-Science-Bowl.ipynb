{
 "cells": [
  {
   "cell_type": "markdown",
   "metadata": {},
   "source": [
    "# 2019 Data Science Bowl - EDA"
   ]
  },
  {
   "cell_type": "markdown",
   "metadata": {},
   "source": [
    "## Load Data & Libraries"
   ]
  },
  {
   "cell_type": "code",
   "execution_count": 10,
   "metadata": {},
   "outputs": [],
   "source": [
    "import pandas as pd\n",
    "import seaborn as sns"
   ]
  },
  {
   "cell_type": "code",
   "execution_count": 11,
   "metadata": {},
   "outputs": [],
   "source": [
    "sample_submission = pd.read_csv(r'D:\\data-science-bowl-2019\\sample_submission.csv')\n",
    "specs = pd.read_csv(r'D:\\data-science-bowl-2019\\specs.csv')\n",
    "test = pd.read_csv(r'D:\\data-science-bowl-2019\\test.csv')\n",
    "train = pd.read_csv(r'D:\\data-science-bowl-2019\\train.csv')\n",
    "train_labels = pd.read_csv(r'D:\\data-science-bowl-2019\\train_labels.csv')"
   ]
  },
  {
   "cell_type": "markdown",
   "metadata": {},
   "source": [
    "## Finding relationships between `train` and `train_labels`"
   ]
  },
  {
   "cell_type": "markdown",
   "metadata": {},
   "source": [
    "Matching columns from both DataFrame"
   ]
  },
  {
   "cell_type": "code",
   "execution_count": 12,
   "metadata": {
    "scrolled": true
   },
   "outputs": [
    {
     "data": {
      "text/plain": [
       "['game_session', 'installation_id', 'title']"
      ]
     },
     "execution_count": 12,
     "metadata": {},
     "output_type": "execute_result"
    }
   ],
   "source": [
    "train_keys = train.columns.intersection(train_labels.columns).to_list()\n",
    "train_keys"
   ]
  },
  {
   "cell_type": "markdown",
   "metadata": {},
   "source": [
    "Number of unique values in `train` vs. `train_labels`"
   ]
  },
  {
   "cell_type": "code",
   "execution_count": 18,
   "metadata": {
    "scrolled": true
   },
   "outputs": [
    {
     "data": {
      "text/html": [
       "<div>\n",
       "<style scoped>\n",
       "    .dataframe tbody tr th:only-of-type {\n",
       "        vertical-align: middle;\n",
       "    }\n",
       "\n",
       "    .dataframe tbody tr th {\n",
       "        vertical-align: top;\n",
       "    }\n",
       "\n",
       "    .dataframe thead th {\n",
       "        text-align: right;\n",
       "    }\n",
       "</style>\n",
       "<table border=\"1\" class=\"dataframe\">\n",
       "  <thead>\n",
       "    <tr style=\"text-align: right;\">\n",
       "      <th></th>\n",
       "      <th>train</th>\n",
       "      <th>train_labels</th>\n",
       "    </tr>\n",
       "  </thead>\n",
       "  <tbody>\n",
       "    <tr>\n",
       "      <th>game_session</th>\n",
       "      <td>303319</td>\n",
       "      <td>17690</td>\n",
       "    </tr>\n",
       "    <tr>\n",
       "      <th>installation_id</th>\n",
       "      <td>17000</td>\n",
       "      <td>3614</td>\n",
       "    </tr>\n",
       "    <tr>\n",
       "      <th>title</th>\n",
       "      <td>44</td>\n",
       "      <td>5</td>\n",
       "    </tr>\n",
       "  </tbody>\n",
       "</table>\n",
       "</div>"
      ],
      "text/plain": [
       "                  train  train_labels\n",
       "game_session     303319         17690\n",
       "installation_id   17000          3614\n",
       "title                44             5"
      ]
     },
     "execution_count": 18,
     "metadata": {},
     "output_type": "execute_result"
    }
   ],
   "source": [
    "df = pd.concat([train[train_keys].nunique(), \n",
    "                train_labels[train_keys].nunique()], axis=1)\n",
    "df.columns = ['train', 'train_labels']\n",
    "df"
   ]
  },
  {
   "cell_type": "markdown",
   "metadata": {},
   "source": [
    "`train` that are labelled"
   ]
  },
  {
   "cell_type": "code",
   "execution_count": 27,
   "metadata": {
    "scrolled": true
   },
   "outputs": [
    {
     "data": {
      "text/html": [
       "<div>\n",
       "<style scoped>\n",
       "    .dataframe tbody tr th:only-of-type {\n",
       "        vertical-align: middle;\n",
       "    }\n",
       "\n",
       "    .dataframe tbody tr th {\n",
       "        vertical-align: top;\n",
       "    }\n",
       "\n",
       "    .dataframe thead th {\n",
       "        text-align: right;\n",
       "    }\n",
       "</style>\n",
       "<table border=\"1\" class=\"dataframe\">\n",
       "  <thead>\n",
       "    <tr style=\"text-align: right;\">\n",
       "      <th></th>\n",
       "      <th>event_id</th>\n",
       "      <th>game_session</th>\n",
       "      <th>timestamp</th>\n",
       "      <th>event_data</th>\n",
       "      <th>installation_id</th>\n",
       "      <th>event_count</th>\n",
       "      <th>event_code</th>\n",
       "      <th>game_time</th>\n",
       "      <th>title</th>\n",
       "      <th>type</th>\n",
       "      <th>world</th>\n",
       "    </tr>\n",
       "  </thead>\n",
       "  <tbody>\n",
       "    <tr>\n",
       "      <th>0</th>\n",
       "      <td>3bfd1a65</td>\n",
       "      <td>901acc108f55a5a1</td>\n",
       "      <td>2019-08-06T05:22:01.344Z</td>\n",
       "      <td>{\"version\":\"1.0\",\"event_count\":1,\"game_time\":0...</td>\n",
       "      <td>0006a69f</td>\n",
       "      <td>1</td>\n",
       "      <td>2000</td>\n",
       "      <td>0</td>\n",
       "      <td>Mushroom Sorter (Assessment)</td>\n",
       "      <td>Assessment</td>\n",
       "      <td>TREETOPCITY</td>\n",
       "    </tr>\n",
       "    <tr>\n",
       "      <th>1</th>\n",
       "      <td>db02c830</td>\n",
       "      <td>901acc108f55a5a1</td>\n",
       "      <td>2019-08-06T05:22:01.400Z</td>\n",
       "      <td>{\"event_count\":2,\"game_time\":37,\"event_code\":2...</td>\n",
       "      <td>0006a69f</td>\n",
       "      <td>2</td>\n",
       "      <td>2025</td>\n",
       "      <td>37</td>\n",
       "      <td>Mushroom Sorter (Assessment)</td>\n",
       "      <td>Assessment</td>\n",
       "      <td>TREETOPCITY</td>\n",
       "    </tr>\n",
       "    <tr>\n",
       "      <th>2</th>\n",
       "      <td>a1e4395d</td>\n",
       "      <td>901acc108f55a5a1</td>\n",
       "      <td>2019-08-06T05:22:01.403Z</td>\n",
       "      <td>{\"description\":\"Pull three mushrooms out of th...</td>\n",
       "      <td>0006a69f</td>\n",
       "      <td>3</td>\n",
       "      <td>3010</td>\n",
       "      <td>37</td>\n",
       "      <td>Mushroom Sorter (Assessment)</td>\n",
       "      <td>Assessment</td>\n",
       "      <td>TREETOPCITY</td>\n",
       "    </tr>\n",
       "    <tr>\n",
       "      <th>3</th>\n",
       "      <td>a52b92d5</td>\n",
       "      <td>901acc108f55a5a1</td>\n",
       "      <td>2019-08-06T05:22:05.242Z</td>\n",
       "      <td>{\"description\":\"Pull three mushrooms out of th...</td>\n",
       "      <td>0006a69f</td>\n",
       "      <td>4</td>\n",
       "      <td>3110</td>\n",
       "      <td>3901</td>\n",
       "      <td>Mushroom Sorter (Assessment)</td>\n",
       "      <td>Assessment</td>\n",
       "      <td>TREETOPCITY</td>\n",
       "    </tr>\n",
       "    <tr>\n",
       "      <th>4</th>\n",
       "      <td>a1e4395d</td>\n",
       "      <td>901acc108f55a5a1</td>\n",
       "      <td>2019-08-06T05:22:05.244Z</td>\n",
       "      <td>{\"description\":\"To pick a mushroom, pull it ou...</td>\n",
       "      <td>0006a69f</td>\n",
       "      <td>5</td>\n",
       "      <td>3010</td>\n",
       "      <td>3901</td>\n",
       "      <td>Mushroom Sorter (Assessment)</td>\n",
       "      <td>Assessment</td>\n",
       "      <td>TREETOPCITY</td>\n",
       "    </tr>\n",
       "    <tr>\n",
       "      <th>...</th>\n",
       "      <td>...</td>\n",
       "      <td>...</td>\n",
       "      <td>...</td>\n",
       "      <td>...</td>\n",
       "      <td>...</td>\n",
       "      <td>...</td>\n",
       "      <td>...</td>\n",
       "      <td>...</td>\n",
       "      <td>...</td>\n",
       "      <td>...</td>\n",
       "      <td>...</td>\n",
       "    </tr>\n",
       "    <tr>\n",
       "      <th>865442</th>\n",
       "      <td>28520915</td>\n",
       "      <td>5448d652309a6324</td>\n",
       "      <td>2019-09-22T02:07:27.562Z</td>\n",
       "      <td>{\"misses\":1,\"prompt\":\"holds least\",\"mode\":\"sel...</td>\n",
       "      <td>ffeb0b1b</td>\n",
       "      <td>58</td>\n",
       "      <td>2030</td>\n",
       "      <td>67094</td>\n",
       "      <td>Cauldron Filler (Assessment)</td>\n",
       "      <td>Assessment</td>\n",
       "      <td>MAGMAPEAK</td>\n",
       "    </tr>\n",
       "    <tr>\n",
       "      <th>865443</th>\n",
       "      <td>91561152</td>\n",
       "      <td>5448d652309a6324</td>\n",
       "      <td>2019-09-22T02:07:27.562Z</td>\n",
       "      <td>{\"bucket\":1,\"buckets_placed\":[3,1,2],\"target_b...</td>\n",
       "      <td>ffeb0b1b</td>\n",
       "      <td>57</td>\n",
       "      <td>4025</td>\n",
       "      <td>67094</td>\n",
       "      <td>Cauldron Filler (Assessment)</td>\n",
       "      <td>Assessment</td>\n",
       "      <td>MAGMAPEAK</td>\n",
       "    </tr>\n",
       "    <tr>\n",
       "      <th>865444</th>\n",
       "      <td>d3268efa</td>\n",
       "      <td>5448d652309a6324</td>\n",
       "      <td>2019-09-22T02:07:27.566Z</td>\n",
       "      <td>{\"description\":\"Awesome.\",\"identifier\":\"Dot_Aw...</td>\n",
       "      <td>ffeb0b1b</td>\n",
       "      <td>59</td>\n",
       "      <td>3021</td>\n",
       "      <td>67094</td>\n",
       "      <td>Cauldron Filler (Assessment)</td>\n",
       "      <td>Assessment</td>\n",
       "      <td>MAGMAPEAK</td>\n",
       "    </tr>\n",
       "    <tr>\n",
       "      <th>865445</th>\n",
       "      <td>b5053438</td>\n",
       "      <td>5448d652309a6324</td>\n",
       "      <td>2019-09-22T02:07:28.311Z</td>\n",
       "      <td>{\"description\":\"Awesome.\",\"identifier\":\"Dot_Aw...</td>\n",
       "      <td>ffeb0b1b</td>\n",
       "      <td>60</td>\n",
       "      <td>3121</td>\n",
       "      <td>67847</td>\n",
       "      <td>Cauldron Filler (Assessment)</td>\n",
       "      <td>Assessment</td>\n",
       "      <td>MAGMAPEAK</td>\n",
       "    </tr>\n",
       "    <tr>\n",
       "      <th>865446</th>\n",
       "      <td>2b058fe3</td>\n",
       "      <td>5448d652309a6324</td>\n",
       "      <td>2019-09-22T02:07:31.963Z</td>\n",
       "      <td>{\"session_duration\":71511,\"event_count\":61,\"ga...</td>\n",
       "      <td>ffeb0b1b</td>\n",
       "      <td>61</td>\n",
       "      <td>2010</td>\n",
       "      <td>71511</td>\n",
       "      <td>Cauldron Filler (Assessment)</td>\n",
       "      <td>Assessment</td>\n",
       "      <td>MAGMAPEAK</td>\n",
       "    </tr>\n",
       "  </tbody>\n",
       "</table>\n",
       "<p>865447 rows × 11 columns</p>\n",
       "</div>"
      ],
      "text/plain": [
       "        event_id      game_session                 timestamp  \\\n",
       "0       3bfd1a65  901acc108f55a5a1  2019-08-06T05:22:01.344Z   \n",
       "1       db02c830  901acc108f55a5a1  2019-08-06T05:22:01.400Z   \n",
       "2       a1e4395d  901acc108f55a5a1  2019-08-06T05:22:01.403Z   \n",
       "3       a52b92d5  901acc108f55a5a1  2019-08-06T05:22:05.242Z   \n",
       "4       a1e4395d  901acc108f55a5a1  2019-08-06T05:22:05.244Z   \n",
       "...          ...               ...                       ...   \n",
       "865442  28520915  5448d652309a6324  2019-09-22T02:07:27.562Z   \n",
       "865443  91561152  5448d652309a6324  2019-09-22T02:07:27.562Z   \n",
       "865444  d3268efa  5448d652309a6324  2019-09-22T02:07:27.566Z   \n",
       "865445  b5053438  5448d652309a6324  2019-09-22T02:07:28.311Z   \n",
       "865446  2b058fe3  5448d652309a6324  2019-09-22T02:07:31.963Z   \n",
       "\n",
       "                                               event_data installation_id  \\\n",
       "0       {\"version\":\"1.0\",\"event_count\":1,\"game_time\":0...        0006a69f   \n",
       "1       {\"event_count\":2,\"game_time\":37,\"event_code\":2...        0006a69f   \n",
       "2       {\"description\":\"Pull three mushrooms out of th...        0006a69f   \n",
       "3       {\"description\":\"Pull three mushrooms out of th...        0006a69f   \n",
       "4       {\"description\":\"To pick a mushroom, pull it ou...        0006a69f   \n",
       "...                                                   ...             ...   \n",
       "865442  {\"misses\":1,\"prompt\":\"holds least\",\"mode\":\"sel...        ffeb0b1b   \n",
       "865443  {\"bucket\":1,\"buckets_placed\":[3,1,2],\"target_b...        ffeb0b1b   \n",
       "865444  {\"description\":\"Awesome.\",\"identifier\":\"Dot_Aw...        ffeb0b1b   \n",
       "865445  {\"description\":\"Awesome.\",\"identifier\":\"Dot_Aw...        ffeb0b1b   \n",
       "865446  {\"session_duration\":71511,\"event_count\":61,\"ga...        ffeb0b1b   \n",
       "\n",
       "        event_count  event_code  game_time                         title  \\\n",
       "0                 1        2000          0  Mushroom Sorter (Assessment)   \n",
       "1                 2        2025         37  Mushroom Sorter (Assessment)   \n",
       "2                 3        3010         37  Mushroom Sorter (Assessment)   \n",
       "3                 4        3110       3901  Mushroom Sorter (Assessment)   \n",
       "4                 5        3010       3901  Mushroom Sorter (Assessment)   \n",
       "...             ...         ...        ...                           ...   \n",
       "865442           58        2030      67094  Cauldron Filler (Assessment)   \n",
       "865443           57        4025      67094  Cauldron Filler (Assessment)   \n",
       "865444           59        3021      67094  Cauldron Filler (Assessment)   \n",
       "865445           60        3121      67847  Cauldron Filler (Assessment)   \n",
       "865446           61        2010      71511  Cauldron Filler (Assessment)   \n",
       "\n",
       "              type        world  \n",
       "0       Assessment  TREETOPCITY  \n",
       "1       Assessment  TREETOPCITY  \n",
       "2       Assessment  TREETOPCITY  \n",
       "3       Assessment  TREETOPCITY  \n",
       "4       Assessment  TREETOPCITY  \n",
       "...            ...          ...  \n",
       "865442  Assessment    MAGMAPEAK  \n",
       "865443  Assessment    MAGMAPEAK  \n",
       "865444  Assessment    MAGMAPEAK  \n",
       "865445  Assessment    MAGMAPEAK  \n",
       "865446  Assessment    MAGMAPEAK  \n",
       "\n",
       "[865447 rows x 11 columns]"
      ]
     },
     "execution_count": 27,
     "metadata": {},
     "output_type": "execute_result"
    }
   ],
   "source": [
    "train_labelled = train[train['game_session'].isin(train_labels['game_session'])].copy()\n",
    "train_labelled.reset_index(drop=True, inplace=True)\n",
    "train_labelled"
   ]
  },
  {
   "cell_type": "code",
   "execution_count": 19,
   "metadata": {
    "scrolled": false
   },
   "outputs": [
    {
     "data": {
      "text/plain": [
       "event_id               97\n",
       "game_session        17690\n",
       "timestamp          842415\n",
       "event_data         805123\n",
       "installation_id      3614\n",
       "event_count          1274\n",
       "event_code             22\n",
       "game_time          135432\n",
       "title                   5\n",
       "type                    1\n",
       "world                   3\n",
       "dtype: int64"
      ]
     },
     "execution_count": 19,
     "metadata": {},
     "output_type": "execute_result"
    }
   ],
   "source": [
    "train_labelled.nunique()"
   ]
  },
  {
   "cell_type": "code",
   "execution_count": 20,
   "metadata": {},
   "outputs": [],
   "source": [
    "train_labelled['timestamp'] = pd.to_datetime(train_labelled['timestamp'])"
   ]
  },
  {
   "cell_type": "code",
   "execution_count": 29,
   "metadata": {
    "scrolled": true
   },
   "outputs": [
    {
     "data": {
      "text/html": [
       "<div>\n",
       "<style scoped>\n",
       "    .dataframe tbody tr th:only-of-type {\n",
       "        vertical-align: middle;\n",
       "    }\n",
       "\n",
       "    .dataframe tbody tr th {\n",
       "        vertical-align: top;\n",
       "    }\n",
       "\n",
       "    .dataframe thead th {\n",
       "        text-align: right;\n",
       "    }\n",
       "</style>\n",
       "<table border=\"1\" class=\"dataframe\">\n",
       "  <thead>\n",
       "    <tr style=\"text-align: right;\">\n",
       "      <th></th>\n",
       "      <th>train</th>\n",
       "      <th>train_labels</th>\n",
       "    </tr>\n",
       "  </thead>\n",
       "  <tbody>\n",
       "    <tr>\n",
       "      <th>game_session</th>\n",
       "      <td>303319</td>\n",
       "      <td>17690</td>\n",
       "    </tr>\n",
       "    <tr>\n",
       "      <th>installation_id</th>\n",
       "      <td>17000</td>\n",
       "      <td>3614</td>\n",
       "    </tr>\n",
       "    <tr>\n",
       "      <th>title</th>\n",
       "      <td>44</td>\n",
       "      <td>5</td>\n",
       "    </tr>\n",
       "  </tbody>\n",
       "</table>\n",
       "</div>"
      ],
      "text/plain": [
       "                  train  train_labels\n",
       "game_session     303319         17690\n",
       "installation_id   17000          3614\n",
       "title                44             5"
      ]
     },
     "execution_count": 29,
     "metadata": {},
     "output_type": "execute_result"
    }
   ],
   "source": [
    "df = pd.concat([train[train_keys].nunique(), \n",
    "                train_labels[train_keys].nunique()], axis=1)\n",
    "df.columns = ['train', 'train_labels']\n",
    "df"
   ]
  },
  {
   "cell_type": "code",
   "execution_count": null,
   "metadata": {},
   "outputs": [],
   "source": [
    "if num_correct == 0:\n",
    "    return 0\n",
    "\n",
    "if num_incorrect == 0:\n",
    "    return 3\n",
    "\n",
    "if num_incorrect == 1:\n",
    "    return 2\n",
    "\n",
    "if num_incorrect == 2:\n",
    "    return 1"
   ]
  },
  {
   "cell_type": "markdown",
   "metadata": {},
   "source": [
    "## Building `train2`\n",
    "Merge of `train_labelled` & `train_labels`"
   ]
  },
  {
   "cell_type": "code",
   "execution_count": 73,
   "metadata": {},
   "outputs": [
    {
     "data": {
      "text/html": [
       "<div>\n",
       "<style scoped>\n",
       "    .dataframe tbody tr th:only-of-type {\n",
       "        vertical-align: middle;\n",
       "    }\n",
       "\n",
       "    .dataframe tbody tr th {\n",
       "        vertical-align: top;\n",
       "    }\n",
       "\n",
       "    .dataframe thead th {\n",
       "        text-align: right;\n",
       "    }\n",
       "</style>\n",
       "<table border=\"1\" class=\"dataframe\">\n",
       "  <thead>\n",
       "    <tr style=\"text-align: right;\">\n",
       "      <th></th>\n",
       "      <th>event_id</th>\n",
       "      <th>game_session</th>\n",
       "      <th>timestamp</th>\n",
       "      <th>event_data</th>\n",
       "      <th>installation_id</th>\n",
       "      <th>event_count</th>\n",
       "      <th>event_code</th>\n",
       "      <th>game_time</th>\n",
       "      <th>title</th>\n",
       "      <th>type</th>\n",
       "      <th>world</th>\n",
       "      <th>num_correct</th>\n",
       "      <th>num_incorrect</th>\n",
       "      <th>accuracy</th>\n",
       "      <th>accuracy_group</th>\n",
       "    </tr>\n",
       "  </thead>\n",
       "  <tbody>\n",
       "    <tr>\n",
       "      <th>0</th>\n",
       "      <td>3bfd1a65</td>\n",
       "      <td>901acc108f55a5a1</td>\n",
       "      <td>2019-08-06 05:22:01.344000+00:00</td>\n",
       "      <td>{\"version\":\"1.0\",\"event_count\":1,\"game_time\":0...</td>\n",
       "      <td>0006a69f</td>\n",
       "      <td>1</td>\n",
       "      <td>2000</td>\n",
       "      <td>0</td>\n",
       "      <td>Mushroom Sorter (Assessment)</td>\n",
       "      <td>Assessment</td>\n",
       "      <td>TREETOPCITY</td>\n",
       "      <td>1</td>\n",
       "      <td>0</td>\n",
       "      <td>1.0</td>\n",
       "      <td>3</td>\n",
       "    </tr>\n",
       "    <tr>\n",
       "      <th>1</th>\n",
       "      <td>db02c830</td>\n",
       "      <td>901acc108f55a5a1</td>\n",
       "      <td>2019-08-06 05:22:01.400000+00:00</td>\n",
       "      <td>{\"event_count\":2,\"game_time\":37,\"event_code\":2...</td>\n",
       "      <td>0006a69f</td>\n",
       "      <td>2</td>\n",
       "      <td>2025</td>\n",
       "      <td>37</td>\n",
       "      <td>Mushroom Sorter (Assessment)</td>\n",
       "      <td>Assessment</td>\n",
       "      <td>TREETOPCITY</td>\n",
       "      <td>1</td>\n",
       "      <td>0</td>\n",
       "      <td>1.0</td>\n",
       "      <td>3</td>\n",
       "    </tr>\n",
       "    <tr>\n",
       "      <th>2</th>\n",
       "      <td>a1e4395d</td>\n",
       "      <td>901acc108f55a5a1</td>\n",
       "      <td>2019-08-06 05:22:01.403000+00:00</td>\n",
       "      <td>{\"description\":\"Pull three mushrooms out of th...</td>\n",
       "      <td>0006a69f</td>\n",
       "      <td>3</td>\n",
       "      <td>3010</td>\n",
       "      <td>37</td>\n",
       "      <td>Mushroom Sorter (Assessment)</td>\n",
       "      <td>Assessment</td>\n",
       "      <td>TREETOPCITY</td>\n",
       "      <td>1</td>\n",
       "      <td>0</td>\n",
       "      <td>1.0</td>\n",
       "      <td>3</td>\n",
       "    </tr>\n",
       "    <tr>\n",
       "      <th>3</th>\n",
       "      <td>a52b92d5</td>\n",
       "      <td>901acc108f55a5a1</td>\n",
       "      <td>2019-08-06 05:22:05.242000+00:00</td>\n",
       "      <td>{\"description\":\"Pull three mushrooms out of th...</td>\n",
       "      <td>0006a69f</td>\n",
       "      <td>4</td>\n",
       "      <td>3110</td>\n",
       "      <td>3901</td>\n",
       "      <td>Mushroom Sorter (Assessment)</td>\n",
       "      <td>Assessment</td>\n",
       "      <td>TREETOPCITY</td>\n",
       "      <td>1</td>\n",
       "      <td>0</td>\n",
       "      <td>1.0</td>\n",
       "      <td>3</td>\n",
       "    </tr>\n",
       "    <tr>\n",
       "      <th>4</th>\n",
       "      <td>a1e4395d</td>\n",
       "      <td>901acc108f55a5a1</td>\n",
       "      <td>2019-08-06 05:22:05.244000+00:00</td>\n",
       "      <td>{\"description\":\"To pick a mushroom, pull it ou...</td>\n",
       "      <td>0006a69f</td>\n",
       "      <td>5</td>\n",
       "      <td>3010</td>\n",
       "      <td>3901</td>\n",
       "      <td>Mushroom Sorter (Assessment)</td>\n",
       "      <td>Assessment</td>\n",
       "      <td>TREETOPCITY</td>\n",
       "      <td>1</td>\n",
       "      <td>0</td>\n",
       "      <td>1.0</td>\n",
       "      <td>3</td>\n",
       "    </tr>\n",
       "  </tbody>\n",
       "</table>\n",
       "</div>"
      ],
      "text/plain": [
       "   event_id      game_session                        timestamp  \\\n",
       "0  3bfd1a65  901acc108f55a5a1 2019-08-06 05:22:01.344000+00:00   \n",
       "1  db02c830  901acc108f55a5a1 2019-08-06 05:22:01.400000+00:00   \n",
       "2  a1e4395d  901acc108f55a5a1 2019-08-06 05:22:01.403000+00:00   \n",
       "3  a52b92d5  901acc108f55a5a1 2019-08-06 05:22:05.242000+00:00   \n",
       "4  a1e4395d  901acc108f55a5a1 2019-08-06 05:22:05.244000+00:00   \n",
       "\n",
       "                                          event_data installation_id  \\\n",
       "0  {\"version\":\"1.0\",\"event_count\":1,\"game_time\":0...        0006a69f   \n",
       "1  {\"event_count\":2,\"game_time\":37,\"event_code\":2...        0006a69f   \n",
       "2  {\"description\":\"Pull three mushrooms out of th...        0006a69f   \n",
       "3  {\"description\":\"Pull three mushrooms out of th...        0006a69f   \n",
       "4  {\"description\":\"To pick a mushroom, pull it ou...        0006a69f   \n",
       "\n",
       "   event_count  event_code  game_time                         title  \\\n",
       "0            1        2000          0  Mushroom Sorter (Assessment)   \n",
       "1            2        2025         37  Mushroom Sorter (Assessment)   \n",
       "2            3        3010         37  Mushroom Sorter (Assessment)   \n",
       "3            4        3110       3901  Mushroom Sorter (Assessment)   \n",
       "4            5        3010       3901  Mushroom Sorter (Assessment)   \n",
       "\n",
       "         type        world  num_correct  num_incorrect  accuracy  \\\n",
       "0  Assessment  TREETOPCITY            1              0       1.0   \n",
       "1  Assessment  TREETOPCITY            1              0       1.0   \n",
       "2  Assessment  TREETOPCITY            1              0       1.0   \n",
       "3  Assessment  TREETOPCITY            1              0       1.0   \n",
       "4  Assessment  TREETOPCITY            1              0       1.0   \n",
       "\n",
       "   accuracy_group  \n",
       "0               3  \n",
       "1               3  \n",
       "2               3  \n",
       "3               3  \n",
       "4               3  "
      ]
     },
     "execution_count": 73,
     "metadata": {},
     "output_type": "execute_result"
    }
   ],
   "source": [
    "train2 = pd.merge(train_labelled, train_labels)\n",
    "train2.head()"
   ]
  },
  {
   "cell_type": "code",
   "execution_count": 86,
   "metadata": {
    "scrolled": false
   },
   "outputs": [
    {
     "name": "stdout",
     "output_type": "stream",
     "text": [
      "<class 'pandas.core.frame.DataFrame'>\n",
      "Int64Index: 865447 entries, 0 to 865446\n",
      "Data columns (total 15 columns):\n",
      "event_id           865447 non-null object\n",
      "game_session       865447 non-null object\n",
      "timestamp          865447 non-null datetime64[ns, UTC]\n",
      "event_data         865447 non-null object\n",
      "installation_id    865447 non-null object\n",
      "event_count        865447 non-null int64\n",
      "event_code         865447 non-null int64\n",
      "game_time          865447 non-null int64\n",
      "title              865447 non-null object\n",
      "type               865447 non-null object\n",
      "world              865447 non-null object\n",
      "num_correct        865447 non-null int64\n",
      "num_incorrect      865447 non-null int64\n",
      "accuracy           865447 non-null float64\n",
      "accuracy_group     865447 non-null int64\n",
      "dtypes: datetime64[ns, UTC](1), float64(1), int64(6), object(7)\n",
      "memory usage: 105.6+ MB\n"
     ]
    }
   ],
   "source": [
    "train2.info()"
   ]
  },
  {
   "cell_type": "code",
   "execution_count": 98,
   "metadata": {},
   "outputs": [],
   "source": [
    "train2_csv = train2.drop(columns=['game_session', 'event_data', 'timestamp'])"
   ]
  },
  {
   "cell_type": "code",
   "execution_count": 99,
   "metadata": {},
   "outputs": [],
   "source": [
    "train2_csv.to_csv(r'D:\\data-science-bowl-2019\\train2.csv')"
   ]
  },
  {
   "cell_type": "markdown",
   "metadata": {},
   "source": [
    "## References"
   ]
  },
  {
   "cell_type": "markdown",
   "metadata": {},
   "source": [
    "- https://www.kaggle.com/robikscube/2019-data-science-bowl-an-introduction"
   ]
  }
 ],
 "metadata": {
  "kernelspec": {
   "display_name": "Python 3",
   "language": "python",
   "name": "python3"
  },
  "language_info": {
   "codemirror_mode": {
    "name": "ipython",
    "version": 3
   },
   "file_extension": ".py",
   "mimetype": "text/x-python",
   "name": "python",
   "nbconvert_exporter": "python",
   "pygments_lexer": "ipython3",
   "version": "3.7.5"
  }
 },
 "nbformat": 4,
 "nbformat_minor": 2
}
