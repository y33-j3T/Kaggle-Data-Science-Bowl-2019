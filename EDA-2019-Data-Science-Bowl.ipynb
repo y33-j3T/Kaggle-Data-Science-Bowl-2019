{
 "cells": [
  {
   "cell_type": "markdown",
   "metadata": {},
   "source": [
    "# 2019 Data Science Bowl - EDA"
   ]
  },
  {
   "cell_type": "markdown",
   "metadata": {},
   "source": [
    "## Load Data & Libraries"
   ]
  },
  {
   "cell_type": "code",
   "execution_count": 2,
   "metadata": {},
   "outputs": [],
   "source": [
    "import pandas as pd\n",
    "import seaborn as sns"
   ]
  },
  {
   "cell_type": "code",
   "execution_count": 3,
   "metadata": {},
   "outputs": [],
   "source": [
    "sample_submission = pd.read_csv(r'D:\\data-science-bowl-2019\\sample_submission.csv')\n",
    "specs = pd.read_csv(r'D:\\data-science-bowl-2019\\specs.csv')\n",
    "test = pd.read_csv(r'D:\\data-science-bowl-2019\\test.csv')\n",
    "train = pd.read_csv(r'D:\\data-science-bowl-2019\\train.csv')\n",
    "train_labels = pd.read_csv(r'D:\\data-science-bowl-2019\\train_labels.csv')"
   ]
  },
  {
   "cell_type": "code",
   "execution_count": null,
   "metadata": {},
   "outputs": [],
   "source": []
  }
 ],
 "metadata": {
  "kernelspec": {
   "display_name": "Python 3",
   "language": "python",
   "name": "python3"
  },
  "language_info": {
   "codemirror_mode": {
    "name": "ipython",
    "version": 3
   },
   "file_extension": ".py",
   "mimetype": "text/x-python",
   "name": "python",
   "nbconvert_exporter": "python",
   "pygments_lexer": "ipython3",
   "version": "3.7.5"
  }
 },
 "nbformat": 4,
 "nbformat_minor": 2
}
