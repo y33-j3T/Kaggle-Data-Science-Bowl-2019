{
 "cells": [
  {
   "cell_type": "markdown",
   "metadata": {},
   "source": [
    "# 2019 Data Science Bowl - EDA"
   ]
  },
  {
   "cell_type": "markdown",
   "metadata": {},
   "source": [
    "## Load Data & Libraries"
   ]
  },
  {
   "cell_type": "code",
   "execution_count": 1,
   "metadata": {},
   "outputs": [],
   "source": [
    "import pandas as pd\n",
    "import seaborn as sns"
   ]
  },
  {
   "cell_type": "code",
   "execution_count": 2,
   "metadata": {},
   "outputs": [],
   "source": [
    "sample_submission = pd.read_csv(r'D:\\data-science-bowl-2019\\sample_submission.csv')\n",
    "specs = pd.read_csv(r'D:\\data-science-bowl-2019\\specs.csv')\n",
    "test = pd.read_csv(r'D:\\data-science-bowl-2019\\test.csv')\n",
    "train = pd.read_csv(r'D:\\data-science-bowl-2019\\train.csv')\n",
    "train_labels = pd.read_csv(r'D:\\data-science-bowl-2019\\train_labels.csv')"
   ]
  },
  {
   "cell_type": "code",
   "execution_count": null,
   "metadata": {},
   "outputs": [],
   "source": [
    "train_small"
   ]
  },
  {
   "cell_type": "markdown",
   "metadata": {},
   "source": [
    "## Finding relationships between `train` and `train_labels`"
   ]
  },
  {
   "cell_type": "markdown",
   "metadata": {},
   "source": [
    "Matching columns from both DataFrame"
   ]
  },
  {
   "cell_type": "code",
   "execution_count": 12,
   "metadata": {
    "scrolled": true
   },
   "outputs": [
    {
     "data": {
      "text/plain": [
       "['game_session', 'installation_id', 'title']"
      ]
     },
     "execution_count": 12,
     "metadata": {},
     "output_type": "execute_result"
    }
   ],
   "source": [
    "train_keys = train.columns.intersection(train_labels.columns).to_list()\n",
    "train_keys"
   ]
  },
  {
   "cell_type": "markdown",
   "metadata": {},
   "source": [
    "Number of unique values in `train` vs. `train_labels`"
   ]
  },
  {
   "cell_type": "code",
   "execution_count": 38,
   "metadata": {},
   "outputs": [
    {
     "data": {
      "text/html": [
       "<div>\n",
       "<style scoped>\n",
       "    .dataframe tbody tr th:only-of-type {\n",
       "        vertical-align: middle;\n",
       "    }\n",
       "\n",
       "    .dataframe tbody tr th {\n",
       "        vertical-align: top;\n",
       "    }\n",
       "\n",
       "    .dataframe thead th {\n",
       "        text-align: right;\n",
       "    }\n",
       "</style>\n",
       "<table border=\"1\" class=\"dataframe\">\n",
       "  <thead>\n",
       "    <tr style=\"text-align: right;\">\n",
       "      <th></th>\n",
       "      <th>train</th>\n",
       "      <th>train_labels</th>\n",
       "    </tr>\n",
       "  </thead>\n",
       "  <tbody>\n",
       "    <tr>\n",
       "      <th>game_session</th>\n",
       "      <td>303319</td>\n",
       "      <td>17690</td>\n",
       "    </tr>\n",
       "    <tr>\n",
       "      <th>installation_id</th>\n",
       "      <td>17000</td>\n",
       "      <td>3614</td>\n",
       "    </tr>\n",
       "    <tr>\n",
       "      <th>title</th>\n",
       "      <td>44</td>\n",
       "      <td>5</td>\n",
       "    </tr>\n",
       "  </tbody>\n",
       "</table>\n",
       "</div>"
      ],
      "text/plain": [
       "                  train  train_labels\n",
       "game_session     303319         17690\n",
       "installation_id   17000          3614\n",
       "title                44             5"
      ]
     },
     "execution_count": 38,
     "metadata": {},
     "output_type": "execute_result"
    }
   ],
   "source": [
    "df = pd.concat([train[train_keys].nunique(), \n",
    "                train_labels[train_keys].nunique()], axis=1)\n",
    "df.columns = ['train', 'train_labels']\n",
    "df"
   ]
  },
  {
   "cell_type": "markdown",
   "metadata": {},
   "source": [
    "`train` `installation_id`s that are labelled"
   ]
  },
  {
   "cell_type": "code",
   "execution_count": 11,
   "metadata": {},
   "outputs": [
    {
     "data": {
      "text/html": [
       "<div>\n",
       "<style scoped>\n",
       "    .dataframe tbody tr th:only-of-type {\n",
       "        vertical-align: middle;\n",
       "    }\n",
       "\n",
       "    .dataframe tbody tr th {\n",
       "        vertical-align: top;\n",
       "    }\n",
       "\n",
       "    .dataframe thead th {\n",
       "        text-align: right;\n",
       "    }\n",
       "</style>\n",
       "<table border=\"1\" class=\"dataframe\">\n",
       "  <thead>\n",
       "    <tr style=\"text-align: right;\">\n",
       "      <th></th>\n",
       "      <th>event_id</th>\n",
       "      <th>game_session</th>\n",
       "      <th>timestamp</th>\n",
       "      <th>event_data</th>\n",
       "      <th>installation_id</th>\n",
       "      <th>event_count</th>\n",
       "      <th>event_code</th>\n",
       "      <th>game_time</th>\n",
       "      <th>title</th>\n",
       "      <th>type</th>\n",
       "      <th>world</th>\n",
       "    </tr>\n",
       "  </thead>\n",
       "  <tbody>\n",
       "    <tr>\n",
       "      <th>1538</th>\n",
       "      <td>27253bdc</td>\n",
       "      <td>34ba1a28d02ba8ba</td>\n",
       "      <td>2019-08-06T04:57:18.904Z</td>\n",
       "      <td>{\"event_code\": 2000, \"event_count\": 1}</td>\n",
       "      <td>0006a69f</td>\n",
       "      <td>1</td>\n",
       "      <td>2000</td>\n",
       "      <td>0</td>\n",
       "      <td>Welcome to Lost Lagoon!</td>\n",
       "      <td>Clip</td>\n",
       "      <td>NONE</td>\n",
       "    </tr>\n",
       "    <tr>\n",
       "      <th>1539</th>\n",
       "      <td>27253bdc</td>\n",
       "      <td>4b57c9a59474a1b9</td>\n",
       "      <td>2019-08-06T04:57:45.301Z</td>\n",
       "      <td>{\"event_code\": 2000, \"event_count\": 1}</td>\n",
       "      <td>0006a69f</td>\n",
       "      <td>1</td>\n",
       "      <td>2000</td>\n",
       "      <td>0</td>\n",
       "      <td>Magma Peak - Level 1</td>\n",
       "      <td>Clip</td>\n",
       "      <td>MAGMAPEAK</td>\n",
       "    </tr>\n",
       "    <tr>\n",
       "      <th>1540</th>\n",
       "      <td>77261ab5</td>\n",
       "      <td>2b9d5af79bcdb79f</td>\n",
       "      <td>2019-08-06T04:58:14.538Z</td>\n",
       "      <td>{\"version\":\"1.0\",\"event_count\":1,\"game_time\":0...</td>\n",
       "      <td>0006a69f</td>\n",
       "      <td>1</td>\n",
       "      <td>2000</td>\n",
       "      <td>0</td>\n",
       "      <td>Sandcastle Builder (Activity)</td>\n",
       "      <td>Activity</td>\n",
       "      <td>MAGMAPEAK</td>\n",
       "    </tr>\n",
       "    <tr>\n",
       "      <th>1541</th>\n",
       "      <td>b2dba42b</td>\n",
       "      <td>2b9d5af79bcdb79f</td>\n",
       "      <td>2019-08-06T04:58:14.615Z</td>\n",
       "      <td>{\"description\":\"Let's build a sandcastle! Firs...</td>\n",
       "      <td>0006a69f</td>\n",
       "      <td>2</td>\n",
       "      <td>3010</td>\n",
       "      <td>29</td>\n",
       "      <td>Sandcastle Builder (Activity)</td>\n",
       "      <td>Activity</td>\n",
       "      <td>MAGMAPEAK</td>\n",
       "    </tr>\n",
       "    <tr>\n",
       "      <th>1542</th>\n",
       "      <td>1325467d</td>\n",
       "      <td>2b9d5af79bcdb79f</td>\n",
       "      <td>2019-08-06T04:58:16.680Z</td>\n",
       "      <td>{\"coordinates\":{\"x\":273,\"y\":650,\"stage_width\":...</td>\n",
       "      <td>0006a69f</td>\n",
       "      <td>3</td>\n",
       "      <td>4070</td>\n",
       "      <td>2137</td>\n",
       "      <td>Sandcastle Builder (Activity)</td>\n",
       "      <td>Activity</td>\n",
       "      <td>MAGMAPEAK</td>\n",
       "    </tr>\n",
       "    <tr>\n",
       "      <th>...</th>\n",
       "      <td>...</td>\n",
       "      <td>...</td>\n",
       "      <td>...</td>\n",
       "      <td>...</td>\n",
       "      <td>...</td>\n",
       "      <td>...</td>\n",
       "      <td>...</td>\n",
       "      <td>...</td>\n",
       "      <td>...</td>\n",
       "      <td>...</td>\n",
       "      <td>...</td>\n",
       "    </tr>\n",
       "    <tr>\n",
       "      <th>11337821</th>\n",
       "      <td>28520915</td>\n",
       "      <td>5448d652309a6324</td>\n",
       "      <td>2019-09-22T02:07:27.562Z</td>\n",
       "      <td>{\"misses\":1,\"prompt\":\"holds least\",\"mode\":\"sel...</td>\n",
       "      <td>ffeb0b1b</td>\n",
       "      <td>58</td>\n",
       "      <td>2030</td>\n",
       "      <td>67094</td>\n",
       "      <td>Cauldron Filler (Assessment)</td>\n",
       "      <td>Assessment</td>\n",
       "      <td>MAGMAPEAK</td>\n",
       "    </tr>\n",
       "    <tr>\n",
       "      <th>11337822</th>\n",
       "      <td>91561152</td>\n",
       "      <td>5448d652309a6324</td>\n",
       "      <td>2019-09-22T02:07:27.562Z</td>\n",
       "      <td>{\"bucket\":1,\"buckets_placed\":[3,1,2],\"target_b...</td>\n",
       "      <td>ffeb0b1b</td>\n",
       "      <td>57</td>\n",
       "      <td>4025</td>\n",
       "      <td>67094</td>\n",
       "      <td>Cauldron Filler (Assessment)</td>\n",
       "      <td>Assessment</td>\n",
       "      <td>MAGMAPEAK</td>\n",
       "    </tr>\n",
       "    <tr>\n",
       "      <th>11337823</th>\n",
       "      <td>d3268efa</td>\n",
       "      <td>5448d652309a6324</td>\n",
       "      <td>2019-09-22T02:07:27.566Z</td>\n",
       "      <td>{\"description\":\"Awesome.\",\"identifier\":\"Dot_Aw...</td>\n",
       "      <td>ffeb0b1b</td>\n",
       "      <td>59</td>\n",
       "      <td>3021</td>\n",
       "      <td>67094</td>\n",
       "      <td>Cauldron Filler (Assessment)</td>\n",
       "      <td>Assessment</td>\n",
       "      <td>MAGMAPEAK</td>\n",
       "    </tr>\n",
       "    <tr>\n",
       "      <th>11337824</th>\n",
       "      <td>b5053438</td>\n",
       "      <td>5448d652309a6324</td>\n",
       "      <td>2019-09-22T02:07:28.311Z</td>\n",
       "      <td>{\"description\":\"Awesome.\",\"identifier\":\"Dot_Aw...</td>\n",
       "      <td>ffeb0b1b</td>\n",
       "      <td>60</td>\n",
       "      <td>3121</td>\n",
       "      <td>67847</td>\n",
       "      <td>Cauldron Filler (Assessment)</td>\n",
       "      <td>Assessment</td>\n",
       "      <td>MAGMAPEAK</td>\n",
       "    </tr>\n",
       "    <tr>\n",
       "      <th>11337825</th>\n",
       "      <td>2b058fe3</td>\n",
       "      <td>5448d652309a6324</td>\n",
       "      <td>2019-09-22T02:07:31.963Z</td>\n",
       "      <td>{\"session_duration\":71511,\"event_count\":61,\"ga...</td>\n",
       "      <td>ffeb0b1b</td>\n",
       "      <td>61</td>\n",
       "      <td>2010</td>\n",
       "      <td>71511</td>\n",
       "      <td>Cauldron Filler (Assessment)</td>\n",
       "      <td>Assessment</td>\n",
       "      <td>MAGMAPEAK</td>\n",
       "    </tr>\n",
       "  </tbody>\n",
       "</table>\n",
       "<p>7734558 rows × 11 columns</p>\n",
       "</div>"
      ],
      "text/plain": [
       "          event_id      game_session                 timestamp  \\\n",
       "1538      27253bdc  34ba1a28d02ba8ba  2019-08-06T04:57:18.904Z   \n",
       "1539      27253bdc  4b57c9a59474a1b9  2019-08-06T04:57:45.301Z   \n",
       "1540      77261ab5  2b9d5af79bcdb79f  2019-08-06T04:58:14.538Z   \n",
       "1541      b2dba42b  2b9d5af79bcdb79f  2019-08-06T04:58:14.615Z   \n",
       "1542      1325467d  2b9d5af79bcdb79f  2019-08-06T04:58:16.680Z   \n",
       "...            ...               ...                       ...   \n",
       "11337821  28520915  5448d652309a6324  2019-09-22T02:07:27.562Z   \n",
       "11337822  91561152  5448d652309a6324  2019-09-22T02:07:27.562Z   \n",
       "11337823  d3268efa  5448d652309a6324  2019-09-22T02:07:27.566Z   \n",
       "11337824  b5053438  5448d652309a6324  2019-09-22T02:07:28.311Z   \n",
       "11337825  2b058fe3  5448d652309a6324  2019-09-22T02:07:31.963Z   \n",
       "\n",
       "                                                 event_data installation_id  \\\n",
       "1538                 {\"event_code\": 2000, \"event_count\": 1}        0006a69f   \n",
       "1539                 {\"event_code\": 2000, \"event_count\": 1}        0006a69f   \n",
       "1540      {\"version\":\"1.0\",\"event_count\":1,\"game_time\":0...        0006a69f   \n",
       "1541      {\"description\":\"Let's build a sandcastle! Firs...        0006a69f   \n",
       "1542      {\"coordinates\":{\"x\":273,\"y\":650,\"stage_width\":...        0006a69f   \n",
       "...                                                     ...             ...   \n",
       "11337821  {\"misses\":1,\"prompt\":\"holds least\",\"mode\":\"sel...        ffeb0b1b   \n",
       "11337822  {\"bucket\":1,\"buckets_placed\":[3,1,2],\"target_b...        ffeb0b1b   \n",
       "11337823  {\"description\":\"Awesome.\",\"identifier\":\"Dot_Aw...        ffeb0b1b   \n",
       "11337824  {\"description\":\"Awesome.\",\"identifier\":\"Dot_Aw...        ffeb0b1b   \n",
       "11337825  {\"session_duration\":71511,\"event_count\":61,\"ga...        ffeb0b1b   \n",
       "\n",
       "          event_count  event_code  game_time                          title  \\\n",
       "1538                1        2000          0        Welcome to Lost Lagoon!   \n",
       "1539                1        2000          0           Magma Peak - Level 1   \n",
       "1540                1        2000          0  Sandcastle Builder (Activity)   \n",
       "1541                2        3010         29  Sandcastle Builder (Activity)   \n",
       "1542                3        4070       2137  Sandcastle Builder (Activity)   \n",
       "...               ...         ...        ...                            ...   \n",
       "11337821           58        2030      67094   Cauldron Filler (Assessment)   \n",
       "11337822           57        4025      67094   Cauldron Filler (Assessment)   \n",
       "11337823           59        3021      67094   Cauldron Filler (Assessment)   \n",
       "11337824           60        3121      67847   Cauldron Filler (Assessment)   \n",
       "11337825           61        2010      71511   Cauldron Filler (Assessment)   \n",
       "\n",
       "                type      world  \n",
       "1538            Clip       NONE  \n",
       "1539            Clip  MAGMAPEAK  \n",
       "1540        Activity  MAGMAPEAK  \n",
       "1541        Activity  MAGMAPEAK  \n",
       "1542        Activity  MAGMAPEAK  \n",
       "...              ...        ...  \n",
       "11337821  Assessment  MAGMAPEAK  \n",
       "11337822  Assessment  MAGMAPEAK  \n",
       "11337823  Assessment  MAGMAPEAK  \n",
       "11337824  Assessment  MAGMAPEAK  \n",
       "11337825  Assessment  MAGMAPEAK  \n",
       "\n",
       "[7734558 rows x 11 columns]"
      ]
     },
     "execution_count": 11,
     "metadata": {},
     "output_type": "execute_result"
    }
   ],
   "source": [
    "train[train['installation_id'].isin(train_labels['installation_id'])]"
   ]
  },
  {
   "cell_type": "markdown",
   "metadata": {},
   "source": [
    "## References"
   ]
  },
  {
   "cell_type": "markdown",
   "metadata": {},
   "source": [
    "- https://www.kaggle.com/robikscube/2019-data-science-bowl-an-introduction"
   ]
  }
 ],
 "metadata": {
  "kernelspec": {
   "display_name": "Python 3",
   "language": "python",
   "name": "python3"
  },
  "language_info": {
   "codemirror_mode": {
    "name": "ipython",
    "version": 3
   },
   "file_extension": ".py",
   "mimetype": "text/x-python",
   "name": "python",
   "nbconvert_exporter": "python",
   "pygments_lexer": "ipython3",
   "version": "3.7.5"
  }
 },
 "nbformat": 4,
 "nbformat_minor": 2
}
