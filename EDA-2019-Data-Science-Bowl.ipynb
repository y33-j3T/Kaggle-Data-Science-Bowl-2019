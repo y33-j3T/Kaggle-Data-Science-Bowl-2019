{
 "cells": [
  {
   "cell_type": "markdown",
   "metadata": {},
   "source": [
    "# 2019 Data Science Bowl - EDA"
   ]
  },
  {
   "cell_type": "markdown",
   "metadata": {},
   "source": [
    "## Load Data & Libraries"
   ]
  },
  {
   "cell_type": "code",
   "execution_count": 1,
   "metadata": {},
   "outputs": [],
   "source": [
    "import pandas as pd\n",
    "import seaborn as sns"
   ]
  },
  {
   "cell_type": "code",
   "execution_count": 2,
   "metadata": {},
   "outputs": [],
   "source": [
    "sample_submission = pd.read_csv(r'D:\\data-science-bowl-2019\\sample_submission.csv')\n",
    "specs = pd.read_csv(r'D:\\data-science-bowl-2019\\specs.csv')\n",
    "test = pd.read_csv(r'D:\\data-science-bowl-2019\\test.csv')\n",
    "train = pd.read_csv(r'D:\\data-science-bowl-2019\\train.csv')\n",
    "train_labels = pd.read_csv(r'D:\\data-science-bowl-2019\\train_labels.csv')"
   ]
  },
  {
   "cell_type": "markdown",
   "metadata": {},
   "source": [
    "## Finding relationships between `train` and `train_labels`"
   ]
  },
  {
   "cell_type": "markdown",
   "metadata": {},
   "source": [
    "Matching columns from both DataFrame"
   ]
  },
  {
   "cell_type": "code",
   "execution_count": 12,
   "metadata": {
    "scrolled": true
   },
   "outputs": [
    {
     "data": {
      "text/plain": [
       "['game_session', 'installation_id', 'title']"
      ]
     },
     "execution_count": 12,
     "metadata": {},
     "output_type": "execute_result"
    }
   ],
   "source": [
    "train_keys = train.columns.intersection(train_labels.columns).to_list()\n",
    "train_keys"
   ]
  },
  {
   "cell_type": "markdown",
   "metadata": {},
   "source": [
    "Number of unique values in `train` vs. `train_labels`"
   ]
  },
  {
   "cell_type": "code",
   "execution_count": 38,
   "metadata": {
    "scrolled": true
   },
   "outputs": [
    {
     "data": {
      "text/html": [
       "<div>\n",
       "<style scoped>\n",
       "    .dataframe tbody tr th:only-of-type {\n",
       "        vertical-align: middle;\n",
       "    }\n",
       "\n",
       "    .dataframe tbody tr th {\n",
       "        vertical-align: top;\n",
       "    }\n",
       "\n",
       "    .dataframe thead th {\n",
       "        text-align: right;\n",
       "    }\n",
       "</style>\n",
       "<table border=\"1\" class=\"dataframe\">\n",
       "  <thead>\n",
       "    <tr style=\"text-align: right;\">\n",
       "      <th></th>\n",
       "      <th>train</th>\n",
       "      <th>train_labels</th>\n",
       "    </tr>\n",
       "  </thead>\n",
       "  <tbody>\n",
       "    <tr>\n",
       "      <th>game_session</th>\n",
       "      <td>303319</td>\n",
       "      <td>17690</td>\n",
       "    </tr>\n",
       "    <tr>\n",
       "      <th>installation_id</th>\n",
       "      <td>17000</td>\n",
       "      <td>3614</td>\n",
       "    </tr>\n",
       "    <tr>\n",
       "      <th>title</th>\n",
       "      <td>44</td>\n",
       "      <td>5</td>\n",
       "    </tr>\n",
       "  </tbody>\n",
       "</table>\n",
       "</div>"
      ],
      "text/plain": [
       "                  train  train_labels\n",
       "game_session     303319         17690\n",
       "installation_id   17000          3614\n",
       "title                44             5"
      ]
     },
     "execution_count": 38,
     "metadata": {},
     "output_type": "execute_result"
    }
   ],
   "source": [
    "df = pd.concat([train[train_keys].nunique(), \n",
    "                train_labels[train_keys].nunique()], axis=1)\n",
    "df.columns = ['train', 'train_labels']\n",
    "df"
   ]
  },
  {
   "cell_type": "markdown",
   "metadata": {},
   "source": [
    "`train` `installation_id`s that are labelled"
   ]
  },
  {
   "cell_type": "code",
   "execution_count": 55,
   "metadata": {
    "scrolled": true
   },
   "outputs": [
    {
     "data": {
      "text/html": [
       "<div>\n",
       "<style scoped>\n",
       "    .dataframe tbody tr th:only-of-type {\n",
       "        vertical-align: middle;\n",
       "    }\n",
       "\n",
       "    .dataframe tbody tr th {\n",
       "        vertical-align: top;\n",
       "    }\n",
       "\n",
       "    .dataframe thead th {\n",
       "        text-align: right;\n",
       "    }\n",
       "</style>\n",
       "<table border=\"1\" class=\"dataframe\">\n",
       "  <thead>\n",
       "    <tr style=\"text-align: right;\">\n",
       "      <th></th>\n",
       "      <th>event_id</th>\n",
       "      <th>game_session</th>\n",
       "      <th>timestamp</th>\n",
       "      <th>event_data</th>\n",
       "      <th>installation_id</th>\n",
       "      <th>event_count</th>\n",
       "      <th>event_code</th>\n",
       "      <th>game_time</th>\n",
       "      <th>title</th>\n",
       "      <th>type</th>\n",
       "      <th>world</th>\n",
       "    </tr>\n",
       "  </thead>\n",
       "  <tbody>\n",
       "    <tr>\n",
       "      <th>0</th>\n",
       "      <td>27253bdc</td>\n",
       "      <td>34ba1a28d02ba8ba</td>\n",
       "      <td>2019-08-06T04:57:18.904Z</td>\n",
       "      <td>{\"event_code\": 2000, \"event_count\": 1}</td>\n",
       "      <td>0006a69f</td>\n",
       "      <td>1</td>\n",
       "      <td>2000</td>\n",
       "      <td>0</td>\n",
       "      <td>Welcome to Lost Lagoon!</td>\n",
       "      <td>Clip</td>\n",
       "      <td>NONE</td>\n",
       "    </tr>\n",
       "    <tr>\n",
       "      <th>1</th>\n",
       "      <td>27253bdc</td>\n",
       "      <td>4b57c9a59474a1b9</td>\n",
       "      <td>2019-08-06T04:57:45.301Z</td>\n",
       "      <td>{\"event_code\": 2000, \"event_count\": 1}</td>\n",
       "      <td>0006a69f</td>\n",
       "      <td>1</td>\n",
       "      <td>2000</td>\n",
       "      <td>0</td>\n",
       "      <td>Magma Peak - Level 1</td>\n",
       "      <td>Clip</td>\n",
       "      <td>MAGMAPEAK</td>\n",
       "    </tr>\n",
       "    <tr>\n",
       "      <th>2</th>\n",
       "      <td>77261ab5</td>\n",
       "      <td>2b9d5af79bcdb79f</td>\n",
       "      <td>2019-08-06T04:58:14.538Z</td>\n",
       "      <td>{\"version\":\"1.0\",\"event_count\":1,\"game_time\":0...</td>\n",
       "      <td>0006a69f</td>\n",
       "      <td>1</td>\n",
       "      <td>2000</td>\n",
       "      <td>0</td>\n",
       "      <td>Sandcastle Builder (Activity)</td>\n",
       "      <td>Activity</td>\n",
       "      <td>MAGMAPEAK</td>\n",
       "    </tr>\n",
       "    <tr>\n",
       "      <th>3</th>\n",
       "      <td>b2dba42b</td>\n",
       "      <td>2b9d5af79bcdb79f</td>\n",
       "      <td>2019-08-06T04:58:14.615Z</td>\n",
       "      <td>{\"description\":\"Let's build a sandcastle! Firs...</td>\n",
       "      <td>0006a69f</td>\n",
       "      <td>2</td>\n",
       "      <td>3010</td>\n",
       "      <td>29</td>\n",
       "      <td>Sandcastle Builder (Activity)</td>\n",
       "      <td>Activity</td>\n",
       "      <td>MAGMAPEAK</td>\n",
       "    </tr>\n",
       "    <tr>\n",
       "      <th>4</th>\n",
       "      <td>1325467d</td>\n",
       "      <td>2b9d5af79bcdb79f</td>\n",
       "      <td>2019-08-06T04:58:16.680Z</td>\n",
       "      <td>{\"coordinates\":{\"x\":273,\"y\":650,\"stage_width\":...</td>\n",
       "      <td>0006a69f</td>\n",
       "      <td>3</td>\n",
       "      <td>4070</td>\n",
       "      <td>2137</td>\n",
       "      <td>Sandcastle Builder (Activity)</td>\n",
       "      <td>Activity</td>\n",
       "      <td>MAGMAPEAK</td>\n",
       "    </tr>\n",
       "    <tr>\n",
       "      <th>...</th>\n",
       "      <td>...</td>\n",
       "      <td>...</td>\n",
       "      <td>...</td>\n",
       "      <td>...</td>\n",
       "      <td>...</td>\n",
       "      <td>...</td>\n",
       "      <td>...</td>\n",
       "      <td>...</td>\n",
       "      <td>...</td>\n",
       "      <td>...</td>\n",
       "      <td>...</td>\n",
       "    </tr>\n",
       "    <tr>\n",
       "      <th>7734553</th>\n",
       "      <td>28520915</td>\n",
       "      <td>5448d652309a6324</td>\n",
       "      <td>2019-09-22T02:07:27.562Z</td>\n",
       "      <td>{\"misses\":1,\"prompt\":\"holds least\",\"mode\":\"sel...</td>\n",
       "      <td>ffeb0b1b</td>\n",
       "      <td>58</td>\n",
       "      <td>2030</td>\n",
       "      <td>67094</td>\n",
       "      <td>Cauldron Filler (Assessment)</td>\n",
       "      <td>Assessment</td>\n",
       "      <td>MAGMAPEAK</td>\n",
       "    </tr>\n",
       "    <tr>\n",
       "      <th>7734554</th>\n",
       "      <td>91561152</td>\n",
       "      <td>5448d652309a6324</td>\n",
       "      <td>2019-09-22T02:07:27.562Z</td>\n",
       "      <td>{\"bucket\":1,\"buckets_placed\":[3,1,2],\"target_b...</td>\n",
       "      <td>ffeb0b1b</td>\n",
       "      <td>57</td>\n",
       "      <td>4025</td>\n",
       "      <td>67094</td>\n",
       "      <td>Cauldron Filler (Assessment)</td>\n",
       "      <td>Assessment</td>\n",
       "      <td>MAGMAPEAK</td>\n",
       "    </tr>\n",
       "    <tr>\n",
       "      <th>7734555</th>\n",
       "      <td>d3268efa</td>\n",
       "      <td>5448d652309a6324</td>\n",
       "      <td>2019-09-22T02:07:27.566Z</td>\n",
       "      <td>{\"description\":\"Awesome.\",\"identifier\":\"Dot_Aw...</td>\n",
       "      <td>ffeb0b1b</td>\n",
       "      <td>59</td>\n",
       "      <td>3021</td>\n",
       "      <td>67094</td>\n",
       "      <td>Cauldron Filler (Assessment)</td>\n",
       "      <td>Assessment</td>\n",
       "      <td>MAGMAPEAK</td>\n",
       "    </tr>\n",
       "    <tr>\n",
       "      <th>7734556</th>\n",
       "      <td>b5053438</td>\n",
       "      <td>5448d652309a6324</td>\n",
       "      <td>2019-09-22T02:07:28.311Z</td>\n",
       "      <td>{\"description\":\"Awesome.\",\"identifier\":\"Dot_Aw...</td>\n",
       "      <td>ffeb0b1b</td>\n",
       "      <td>60</td>\n",
       "      <td>3121</td>\n",
       "      <td>67847</td>\n",
       "      <td>Cauldron Filler (Assessment)</td>\n",
       "      <td>Assessment</td>\n",
       "      <td>MAGMAPEAK</td>\n",
       "    </tr>\n",
       "    <tr>\n",
       "      <th>7734557</th>\n",
       "      <td>2b058fe3</td>\n",
       "      <td>5448d652309a6324</td>\n",
       "      <td>2019-09-22T02:07:31.963Z</td>\n",
       "      <td>{\"session_duration\":71511,\"event_count\":61,\"ga...</td>\n",
       "      <td>ffeb0b1b</td>\n",
       "      <td>61</td>\n",
       "      <td>2010</td>\n",
       "      <td>71511</td>\n",
       "      <td>Cauldron Filler (Assessment)</td>\n",
       "      <td>Assessment</td>\n",
       "      <td>MAGMAPEAK</td>\n",
       "    </tr>\n",
       "  </tbody>\n",
       "</table>\n",
       "<p>7734558 rows × 11 columns</p>\n",
       "</div>"
      ],
      "text/plain": [
       "         event_id      game_session                 timestamp  \\\n",
       "0        27253bdc  34ba1a28d02ba8ba  2019-08-06T04:57:18.904Z   \n",
       "1        27253bdc  4b57c9a59474a1b9  2019-08-06T04:57:45.301Z   \n",
       "2        77261ab5  2b9d5af79bcdb79f  2019-08-06T04:58:14.538Z   \n",
       "3        b2dba42b  2b9d5af79bcdb79f  2019-08-06T04:58:14.615Z   \n",
       "4        1325467d  2b9d5af79bcdb79f  2019-08-06T04:58:16.680Z   \n",
       "...           ...               ...                       ...   \n",
       "7734553  28520915  5448d652309a6324  2019-09-22T02:07:27.562Z   \n",
       "7734554  91561152  5448d652309a6324  2019-09-22T02:07:27.562Z   \n",
       "7734555  d3268efa  5448d652309a6324  2019-09-22T02:07:27.566Z   \n",
       "7734556  b5053438  5448d652309a6324  2019-09-22T02:07:28.311Z   \n",
       "7734557  2b058fe3  5448d652309a6324  2019-09-22T02:07:31.963Z   \n",
       "\n",
       "                                                event_data installation_id  \\\n",
       "0                   {\"event_code\": 2000, \"event_count\": 1}        0006a69f   \n",
       "1                   {\"event_code\": 2000, \"event_count\": 1}        0006a69f   \n",
       "2        {\"version\":\"1.0\",\"event_count\":1,\"game_time\":0...        0006a69f   \n",
       "3        {\"description\":\"Let's build a sandcastle! Firs...        0006a69f   \n",
       "4        {\"coordinates\":{\"x\":273,\"y\":650,\"stage_width\":...        0006a69f   \n",
       "...                                                    ...             ...   \n",
       "7734553  {\"misses\":1,\"prompt\":\"holds least\",\"mode\":\"sel...        ffeb0b1b   \n",
       "7734554  {\"bucket\":1,\"buckets_placed\":[3,1,2],\"target_b...        ffeb0b1b   \n",
       "7734555  {\"description\":\"Awesome.\",\"identifier\":\"Dot_Aw...        ffeb0b1b   \n",
       "7734556  {\"description\":\"Awesome.\",\"identifier\":\"Dot_Aw...        ffeb0b1b   \n",
       "7734557  {\"session_duration\":71511,\"event_count\":61,\"ga...        ffeb0b1b   \n",
       "\n",
       "         event_count  event_code  game_time                          title  \\\n",
       "0                  1        2000          0        Welcome to Lost Lagoon!   \n",
       "1                  1        2000          0           Magma Peak - Level 1   \n",
       "2                  1        2000          0  Sandcastle Builder (Activity)   \n",
       "3                  2        3010         29  Sandcastle Builder (Activity)   \n",
       "4                  3        4070       2137  Sandcastle Builder (Activity)   \n",
       "...              ...         ...        ...                            ...   \n",
       "7734553           58        2030      67094   Cauldron Filler (Assessment)   \n",
       "7734554           57        4025      67094   Cauldron Filler (Assessment)   \n",
       "7734555           59        3021      67094   Cauldron Filler (Assessment)   \n",
       "7734556           60        3121      67847   Cauldron Filler (Assessment)   \n",
       "7734557           61        2010      71511   Cauldron Filler (Assessment)   \n",
       "\n",
       "               type      world  \n",
       "0              Clip       NONE  \n",
       "1              Clip  MAGMAPEAK  \n",
       "2          Activity  MAGMAPEAK  \n",
       "3          Activity  MAGMAPEAK  \n",
       "4          Activity  MAGMAPEAK  \n",
       "...             ...        ...  \n",
       "7734553  Assessment  MAGMAPEAK  \n",
       "7734554  Assessment  MAGMAPEAK  \n",
       "7734555  Assessment  MAGMAPEAK  \n",
       "7734556  Assessment  MAGMAPEAK  \n",
       "7734557  Assessment  MAGMAPEAK  \n",
       "\n",
       "[7734558 rows x 11 columns]"
      ]
     },
     "execution_count": 55,
     "metadata": {},
     "output_type": "execute_result"
    }
   ],
   "source": [
    "train_labelled = train[train['installation_id'].isin(train_labels['installation_id'])].copy()\n",
    "train_labelled.reset_index(drop=True, inplace=True)\n",
    "train_labelled"
   ]
  },
  {
   "cell_type": "code",
   "execution_count": 56,
   "metadata": {},
   "outputs": [],
   "source": [
    "train_labelled['timestamp'] = pd.to_datetime(train_labelled['timestamp'])"
   ]
  },
  {
   "cell_type": "code",
   "execution_count": 79,
   "metadata": {
    "scrolled": true
   },
   "outputs": [
    {
     "name": "stdout",
     "output_type": "stream",
     "text": [
      "event_id               379\n",
      "game_session        175467\n",
      "timestamp          7347901\n",
      "event_data         7457863\n",
      "installation_id       3614\n",
      "event_count           3182\n",
      "event_code              42\n",
      "game_time           673592\n",
      "title                   44\n",
      "type                     4\n",
      "world                    4\n",
      "dtype: int64\n",
      "(7734558, 11)\n"
     ]
    }
   ],
   "source": [
    "print(train_labelled.nunique())\n",
    "print(train_labelled.shape)"
   ]
  },
  {
   "cell_type": "code",
   "execution_count": 80,
   "metadata": {},
   "outputs": [
    {
     "name": "stdout",
     "output_type": "stream",
     "text": [
      "game_session       17690\n",
      "installation_id     3614\n",
      "title                  5\n",
      "num_correct            2\n",
      "num_incorrect         46\n",
      "accuracy              30\n",
      "accuracy_group         4\n",
      "dtype: int64\n",
      "(17690, 7)\n"
     ]
    }
   ],
   "source": [
    "print(train_labels.nunique())\n",
    "print(train_labels.shape)"
   ]
  },
  {
   "cell_type": "code",
   "execution_count": null,
   "metadata": {},
   "outputs": [],
   "source": [
    "df = pd.concat([train[train_keys].nunique(), \n",
    "                train_labels[train_keys].nunique()], axis=1)\n",
    "df.columns = ['train', 'train_labels']\n",
    "df"
   ]
  },
  {
   "cell_type": "markdown",
   "metadata": {},
   "source": [
    "## Building `train2`\n",
    "Merge of `train_labelled` & `train_labels`"
   ]
  },
  {
   "cell_type": "code",
   "execution_count": 73,
   "metadata": {},
   "outputs": [
    {
     "data": {
      "text/html": [
       "<div>\n",
       "<style scoped>\n",
       "    .dataframe tbody tr th:only-of-type {\n",
       "        vertical-align: middle;\n",
       "    }\n",
       "\n",
       "    .dataframe tbody tr th {\n",
       "        vertical-align: top;\n",
       "    }\n",
       "\n",
       "    .dataframe thead th {\n",
       "        text-align: right;\n",
       "    }\n",
       "</style>\n",
       "<table border=\"1\" class=\"dataframe\">\n",
       "  <thead>\n",
       "    <tr style=\"text-align: right;\">\n",
       "      <th></th>\n",
       "      <th>event_id</th>\n",
       "      <th>game_session</th>\n",
       "      <th>timestamp</th>\n",
       "      <th>event_data</th>\n",
       "      <th>installation_id</th>\n",
       "      <th>event_count</th>\n",
       "      <th>event_code</th>\n",
       "      <th>game_time</th>\n",
       "      <th>title</th>\n",
       "      <th>type</th>\n",
       "      <th>world</th>\n",
       "      <th>num_correct</th>\n",
       "      <th>num_incorrect</th>\n",
       "      <th>accuracy</th>\n",
       "      <th>accuracy_group</th>\n",
       "    </tr>\n",
       "  </thead>\n",
       "  <tbody>\n",
       "    <tr>\n",
       "      <th>0</th>\n",
       "      <td>3bfd1a65</td>\n",
       "      <td>901acc108f55a5a1</td>\n",
       "      <td>2019-08-06 05:22:01.344000+00:00</td>\n",
       "      <td>{\"version\":\"1.0\",\"event_count\":1,\"game_time\":0...</td>\n",
       "      <td>0006a69f</td>\n",
       "      <td>1</td>\n",
       "      <td>2000</td>\n",
       "      <td>0</td>\n",
       "      <td>Mushroom Sorter (Assessment)</td>\n",
       "      <td>Assessment</td>\n",
       "      <td>TREETOPCITY</td>\n",
       "      <td>1</td>\n",
       "      <td>0</td>\n",
       "      <td>1.0</td>\n",
       "      <td>3</td>\n",
       "    </tr>\n",
       "    <tr>\n",
       "      <th>1</th>\n",
       "      <td>db02c830</td>\n",
       "      <td>901acc108f55a5a1</td>\n",
       "      <td>2019-08-06 05:22:01.400000+00:00</td>\n",
       "      <td>{\"event_count\":2,\"game_time\":37,\"event_code\":2...</td>\n",
       "      <td>0006a69f</td>\n",
       "      <td>2</td>\n",
       "      <td>2025</td>\n",
       "      <td>37</td>\n",
       "      <td>Mushroom Sorter (Assessment)</td>\n",
       "      <td>Assessment</td>\n",
       "      <td>TREETOPCITY</td>\n",
       "      <td>1</td>\n",
       "      <td>0</td>\n",
       "      <td>1.0</td>\n",
       "      <td>3</td>\n",
       "    </tr>\n",
       "    <tr>\n",
       "      <th>2</th>\n",
       "      <td>a1e4395d</td>\n",
       "      <td>901acc108f55a5a1</td>\n",
       "      <td>2019-08-06 05:22:01.403000+00:00</td>\n",
       "      <td>{\"description\":\"Pull three mushrooms out of th...</td>\n",
       "      <td>0006a69f</td>\n",
       "      <td>3</td>\n",
       "      <td>3010</td>\n",
       "      <td>37</td>\n",
       "      <td>Mushroom Sorter (Assessment)</td>\n",
       "      <td>Assessment</td>\n",
       "      <td>TREETOPCITY</td>\n",
       "      <td>1</td>\n",
       "      <td>0</td>\n",
       "      <td>1.0</td>\n",
       "      <td>3</td>\n",
       "    </tr>\n",
       "    <tr>\n",
       "      <th>3</th>\n",
       "      <td>a52b92d5</td>\n",
       "      <td>901acc108f55a5a1</td>\n",
       "      <td>2019-08-06 05:22:05.242000+00:00</td>\n",
       "      <td>{\"description\":\"Pull three mushrooms out of th...</td>\n",
       "      <td>0006a69f</td>\n",
       "      <td>4</td>\n",
       "      <td>3110</td>\n",
       "      <td>3901</td>\n",
       "      <td>Mushroom Sorter (Assessment)</td>\n",
       "      <td>Assessment</td>\n",
       "      <td>TREETOPCITY</td>\n",
       "      <td>1</td>\n",
       "      <td>0</td>\n",
       "      <td>1.0</td>\n",
       "      <td>3</td>\n",
       "    </tr>\n",
       "    <tr>\n",
       "      <th>4</th>\n",
       "      <td>a1e4395d</td>\n",
       "      <td>901acc108f55a5a1</td>\n",
       "      <td>2019-08-06 05:22:05.244000+00:00</td>\n",
       "      <td>{\"description\":\"To pick a mushroom, pull it ou...</td>\n",
       "      <td>0006a69f</td>\n",
       "      <td>5</td>\n",
       "      <td>3010</td>\n",
       "      <td>3901</td>\n",
       "      <td>Mushroom Sorter (Assessment)</td>\n",
       "      <td>Assessment</td>\n",
       "      <td>TREETOPCITY</td>\n",
       "      <td>1</td>\n",
       "      <td>0</td>\n",
       "      <td>1.0</td>\n",
       "      <td>3</td>\n",
       "    </tr>\n",
       "  </tbody>\n",
       "</table>\n",
       "</div>"
      ],
      "text/plain": [
       "   event_id      game_session                        timestamp  \\\n",
       "0  3bfd1a65  901acc108f55a5a1 2019-08-06 05:22:01.344000+00:00   \n",
       "1  db02c830  901acc108f55a5a1 2019-08-06 05:22:01.400000+00:00   \n",
       "2  a1e4395d  901acc108f55a5a1 2019-08-06 05:22:01.403000+00:00   \n",
       "3  a52b92d5  901acc108f55a5a1 2019-08-06 05:22:05.242000+00:00   \n",
       "4  a1e4395d  901acc108f55a5a1 2019-08-06 05:22:05.244000+00:00   \n",
       "\n",
       "                                          event_data installation_id  \\\n",
       "0  {\"version\":\"1.0\",\"event_count\":1,\"game_time\":0...        0006a69f   \n",
       "1  {\"event_count\":2,\"game_time\":37,\"event_code\":2...        0006a69f   \n",
       "2  {\"description\":\"Pull three mushrooms out of th...        0006a69f   \n",
       "3  {\"description\":\"Pull three mushrooms out of th...        0006a69f   \n",
       "4  {\"description\":\"To pick a mushroom, pull it ou...        0006a69f   \n",
       "\n",
       "   event_count  event_code  game_time                         title  \\\n",
       "0            1        2000          0  Mushroom Sorter (Assessment)   \n",
       "1            2        2025         37  Mushroom Sorter (Assessment)   \n",
       "2            3        3010         37  Mushroom Sorter (Assessment)   \n",
       "3            4        3110       3901  Mushroom Sorter (Assessment)   \n",
       "4            5        3010       3901  Mushroom Sorter (Assessment)   \n",
       "\n",
       "         type        world  num_correct  num_incorrect  accuracy  \\\n",
       "0  Assessment  TREETOPCITY            1              0       1.0   \n",
       "1  Assessment  TREETOPCITY            1              0       1.0   \n",
       "2  Assessment  TREETOPCITY            1              0       1.0   \n",
       "3  Assessment  TREETOPCITY            1              0       1.0   \n",
       "4  Assessment  TREETOPCITY            1              0       1.0   \n",
       "\n",
       "   accuracy_group  \n",
       "0               3  \n",
       "1               3  \n",
       "2               3  \n",
       "3               3  \n",
       "4               3  "
      ]
     },
     "execution_count": 73,
     "metadata": {},
     "output_type": "execute_result"
    }
   ],
   "source": [
    "train2 = pd.merge(train_labelled, train_labels)\n",
    "train2.head()"
   ]
  },
  {
   "cell_type": "code",
   "execution_count": 86,
   "metadata": {
    "scrolled": false
   },
   "outputs": [
    {
     "name": "stdout",
     "output_type": "stream",
     "text": [
      "<class 'pandas.core.frame.DataFrame'>\n",
      "Int64Index: 865447 entries, 0 to 865446\n",
      "Data columns (total 15 columns):\n",
      "event_id           865447 non-null object\n",
      "game_session       865447 non-null object\n",
      "timestamp          865447 non-null datetime64[ns, UTC]\n",
      "event_data         865447 non-null object\n",
      "installation_id    865447 non-null object\n",
      "event_count        865447 non-null int64\n",
      "event_code         865447 non-null int64\n",
      "game_time          865447 non-null int64\n",
      "title              865447 non-null object\n",
      "type               865447 non-null object\n",
      "world              865447 non-null object\n",
      "num_correct        865447 non-null int64\n",
      "num_incorrect      865447 non-null int64\n",
      "accuracy           865447 non-null float64\n",
      "accuracy_group     865447 non-null int64\n",
      "dtypes: datetime64[ns, UTC](1), float64(1), int64(6), object(7)\n",
      "memory usage: 105.6+ MB\n"
     ]
    }
   ],
   "source": [
    "train2.info()"
   ]
  },
  {
   "cell_type": "code",
   "execution_count": 92,
   "metadata": {},
   "outputs": [],
   "source": [
    "temp = train2.drop(columns=['game_session', 'event_data', 'timestamp'])"
   ]
  },
  {
   "cell_type": "code",
   "execution_count": 97,
   "metadata": {},
   "outputs": [
    {
     "ename": "MemoryError",
     "evalue": "Unable to allocate array with shape (3614, 865447) and data type uint8",
     "output_type": "error",
     "traceback": [
      "\u001b[1;31m---------------------------------------------------------------------------\u001b[0m",
      "\u001b[1;31mMemoryError\u001b[0m                               Traceback (most recent call last)",
      "\u001b[1;32m<ipython-input-97-4d59e83caa3b>\u001b[0m in \u001b[0;36m<module>\u001b[1;34m\u001b[0m\n\u001b[1;32m----> 1\u001b[1;33m \u001b[0mpd\u001b[0m\u001b[1;33m.\u001b[0m\u001b[0mget_dummies\u001b[0m\u001b[1;33m(\u001b[0m\u001b[0mtemp\u001b[0m\u001b[1;33m)\u001b[0m\u001b[1;33m\u001b[0m\u001b[1;33m\u001b[0m\u001b[0m\n\u001b[0m",
      "\u001b[1;32mc:\\users\\y33-j3t\\anaconda3\\envs\\ml\\lib\\site-packages\\pandas\\core\\reshape\\reshape.py\u001b[0m in \u001b[0;36mget_dummies\u001b[1;34m(data, prefix, prefix_sep, dummy_na, columns, sparse, drop_first, dtype)\u001b[0m\n\u001b[0;32m    927\u001b[0m             )\n\u001b[0;32m    928\u001b[0m             \u001b[0mwith_dummies\u001b[0m\u001b[1;33m.\u001b[0m\u001b[0mappend\u001b[0m\u001b[1;33m(\u001b[0m\u001b[0mdummy\u001b[0m\u001b[1;33m)\u001b[0m\u001b[1;33m\u001b[0m\u001b[1;33m\u001b[0m\u001b[0m\n\u001b[1;32m--> 929\u001b[1;33m         \u001b[0mresult\u001b[0m \u001b[1;33m=\u001b[0m \u001b[0mconcat\u001b[0m\u001b[1;33m(\u001b[0m\u001b[0mwith_dummies\u001b[0m\u001b[1;33m,\u001b[0m \u001b[0maxis\u001b[0m\u001b[1;33m=\u001b[0m\u001b[1;36m1\u001b[0m\u001b[1;33m)\u001b[0m\u001b[1;33m\u001b[0m\u001b[1;33m\u001b[0m\u001b[0m\n\u001b[0m\u001b[0;32m    930\u001b[0m     \u001b[1;32melse\u001b[0m\u001b[1;33m:\u001b[0m\u001b[1;33m\u001b[0m\u001b[1;33m\u001b[0m\u001b[0m\n\u001b[0;32m    931\u001b[0m         result = _get_dummies_1d(\n",
      "\u001b[1;32mc:\\users\\y33-j3t\\anaconda3\\envs\\ml\\lib\\site-packages\\pandas\\core\\reshape\\concat.py\u001b[0m in \u001b[0;36mconcat\u001b[1;34m(objs, axis, join, join_axes, ignore_index, keys, levels, names, verify_integrity, sort, copy)\u001b[0m\n\u001b[0;32m    256\u001b[0m     )\n\u001b[0;32m    257\u001b[0m \u001b[1;33m\u001b[0m\u001b[0m\n\u001b[1;32m--> 258\u001b[1;33m     \u001b[1;32mreturn\u001b[0m \u001b[0mop\u001b[0m\u001b[1;33m.\u001b[0m\u001b[0mget_result\u001b[0m\u001b[1;33m(\u001b[0m\u001b[1;33m)\u001b[0m\u001b[1;33m\u001b[0m\u001b[1;33m\u001b[0m\u001b[0m\n\u001b[0m\u001b[0;32m    259\u001b[0m \u001b[1;33m\u001b[0m\u001b[0m\n\u001b[0;32m    260\u001b[0m \u001b[1;33m\u001b[0m\u001b[0m\n",
      "\u001b[1;32mc:\\users\\y33-j3t\\anaconda3\\envs\\ml\\lib\\site-packages\\pandas\\core\\reshape\\concat.py\u001b[0m in \u001b[0;36mget_result\u001b[1;34m(self)\u001b[0m\n\u001b[0;32m    471\u001b[0m \u001b[1;33m\u001b[0m\u001b[0m\n\u001b[0;32m    472\u001b[0m             new_data = concatenate_block_managers(\n\u001b[1;32m--> 473\u001b[1;33m                 \u001b[0mmgrs_indexers\u001b[0m\u001b[1;33m,\u001b[0m \u001b[0mself\u001b[0m\u001b[1;33m.\u001b[0m\u001b[0mnew_axes\u001b[0m\u001b[1;33m,\u001b[0m \u001b[0mconcat_axis\u001b[0m\u001b[1;33m=\u001b[0m\u001b[0mself\u001b[0m\u001b[1;33m.\u001b[0m\u001b[0maxis\u001b[0m\u001b[1;33m,\u001b[0m \u001b[0mcopy\u001b[0m\u001b[1;33m=\u001b[0m\u001b[0mself\u001b[0m\u001b[1;33m.\u001b[0m\u001b[0mcopy\u001b[0m\u001b[1;33m\u001b[0m\u001b[1;33m\u001b[0m\u001b[0m\n\u001b[0m\u001b[0;32m    474\u001b[0m             )\n\u001b[0;32m    475\u001b[0m             \u001b[1;32mif\u001b[0m \u001b[1;32mnot\u001b[0m \u001b[0mself\u001b[0m\u001b[1;33m.\u001b[0m\u001b[0mcopy\u001b[0m\u001b[1;33m:\u001b[0m\u001b[1;33m\u001b[0m\u001b[1;33m\u001b[0m\u001b[0m\n",
      "\u001b[1;32mc:\\users\\y33-j3t\\anaconda3\\envs\\ml\\lib\\site-packages\\pandas\\core\\internals\\managers.py\u001b[0m in \u001b[0;36mconcatenate_block_managers\u001b[1;34m(mgrs_indexers, axes, concat_axis, copy)\u001b[0m\n\u001b[0;32m   2042\u001b[0m             \u001b[0mvalues\u001b[0m \u001b[1;33m=\u001b[0m \u001b[0mb\u001b[0m\u001b[1;33m.\u001b[0m\u001b[0mvalues\u001b[0m\u001b[1;33m\u001b[0m\u001b[1;33m\u001b[0m\u001b[0m\n\u001b[0;32m   2043\u001b[0m             \u001b[1;32mif\u001b[0m \u001b[0mcopy\u001b[0m\u001b[1;33m:\u001b[0m\u001b[1;33m\u001b[0m\u001b[1;33m\u001b[0m\u001b[0m\n\u001b[1;32m-> 2044\u001b[1;33m                 \u001b[0mvalues\u001b[0m \u001b[1;33m=\u001b[0m \u001b[0mvalues\u001b[0m\u001b[1;33m.\u001b[0m\u001b[0mcopy\u001b[0m\u001b[1;33m(\u001b[0m\u001b[1;33m)\u001b[0m\u001b[1;33m\u001b[0m\u001b[1;33m\u001b[0m\u001b[0m\n\u001b[0m\u001b[0;32m   2045\u001b[0m             \u001b[1;32melif\u001b[0m \u001b[1;32mnot\u001b[0m \u001b[0mcopy\u001b[0m\u001b[1;33m:\u001b[0m\u001b[1;33m\u001b[0m\u001b[1;33m\u001b[0m\u001b[0m\n\u001b[0;32m   2046\u001b[0m                 \u001b[0mvalues\u001b[0m \u001b[1;33m=\u001b[0m \u001b[0mvalues\u001b[0m\u001b[1;33m.\u001b[0m\u001b[0mview\u001b[0m\u001b[1;33m(\u001b[0m\u001b[1;33m)\u001b[0m\u001b[1;33m\u001b[0m\u001b[1;33m\u001b[0m\u001b[0m\n",
      "\u001b[1;31mMemoryError\u001b[0m: Unable to allocate array with shape (3614, 865447) and data type uint8"
     ]
    }
   ],
   "source": []
  },
  {
   "cell_type": "code",
   "execution_count": null,
   "metadata": {},
   "outputs": [],
   "source": [
    "train2.to_csv(r'D:\\data-science-bowl-2019\\train2.csv')"
   ]
  },
  {
   "cell_type": "markdown",
   "metadata": {},
   "source": [
    "## References"
   ]
  },
  {
   "cell_type": "markdown",
   "metadata": {},
   "source": [
    "- https://www.kaggle.com/robikscube/2019-data-science-bowl-an-introduction"
   ]
  }
 ],
 "metadata": {
  "kernelspec": {
   "display_name": "Python 3",
   "language": "python",
   "name": "python3"
  },
  "language_info": {
   "codemirror_mode": {
    "name": "ipython",
    "version": 3
   },
   "file_extension": ".py",
   "mimetype": "text/x-python",
   "name": "python",
   "nbconvert_exporter": "python",
   "pygments_lexer": "ipython3",
   "version": "3.7.5"
  }
 },
 "nbformat": 4,
 "nbformat_minor": 2
}
